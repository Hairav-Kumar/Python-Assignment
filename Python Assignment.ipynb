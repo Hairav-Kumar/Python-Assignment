{
 "cells": [
  {
   "cell_type": "code",
   "execution_count": 3,
   "id": "1114f910-dcad-42de-9812-c58bf3511024",
   "metadata": {},
   "outputs": [
    {
     "name": "stdout",
     "output_type": "stream",
     "text": [
      "* \n",
      "* * \n",
      "* * * \n",
      "* * * * \n",
      "* * * * * \n"
     ]
    }
   ],
   "source": [
    "# Question based on nested for loop.\n",
    "# Pattern Based Question.\n",
    "\n",
    "# *\n",
    "# * *\n",
    "# * * *\n",
    "# * * * *\n",
    "# * * * * *\n",
    "\n",
    "for i in range(5):\n",
    "    for j in range(1,i+2):\n",
    "        print(\"*\",end=\" \")\n",
    "    print()\n",
    "                    "
   ]
  },
  {
   "cell_type": "code",
   "execution_count": 5,
   "id": "ef9651e5-1bfe-4f8b-b4f0-1a3c1ca22b4f",
   "metadata": {},
   "outputs": [
    {
     "name": "stdout",
     "output_type": "stream",
     "text": [
      "* * * * * \n",
      "* * * * \n",
      "* * * \n",
      "* * \n",
      "* \n"
     ]
    }
   ],
   "source": [
    "# * * * * *\n",
    "# * * * *\n",
    "# * * *\n",
    "# * *\n",
    "# *\n",
    "\n",
    "for i in range(5):\n",
    "    for j in range(0,5-i):\n",
    "        print(\"*\",end=\" \")\n",
    "    print()"
   ]
  },
  {
   "cell_type": "code",
   "execution_count": 11,
   "id": "2ba28a7b-1b0d-455f-9308-e8b6ca30c177",
   "metadata": {},
   "outputs": [
    {
     "name": "stdout",
     "output_type": "stream",
     "text": [
      "1\n",
      "12\n",
      "123\n",
      "1234\n",
      "12345\n"
     ]
    }
   ],
   "source": [
    "# 1\n",
    "# 12\n",
    "# 123\n",
    "# 1234\n",
    "# 12345\n",
    "n=5\n",
    "for i in range(n):\n",
    "    for j in range(1,i+2):\n",
    "        print(j,end=\"\")\n",
    "    print()"
   ]
  },
  {
   "cell_type": "code",
   "execution_count": 16,
   "id": "5cb9dd23-58df-4f35-ae48-21d6ee80d727",
   "metadata": {},
   "outputs": [
    {
     "name": "stdout",
     "output_type": "stream",
     "text": [
      "12345\n",
      "1234\n",
      "123\n",
      "12\n",
      "1\n"
     ]
    }
   ],
   "source": [
    "# 12345\n",
    "# 1234\n",
    "# 123\n",
    "# 12\n",
    "# 1\n",
    "n=5\n",
    "for i in range(n):\n",
    "    for j in range(1,n+1-i):\n",
    "        print(j,end=\"\")\n",
    "    print()"
   ]
  },
  {
   "cell_type": "code",
   "execution_count": 5,
   "id": "5ad6c6cb-16c5-4833-805e-8a8145e494ba",
   "metadata": {},
   "outputs": [
    {
     "name": "stdout",
     "output_type": "stream",
     "text": [
      "54321\n",
      "5432\n",
      "543\n",
      "54\n",
      "5\n"
     ]
    }
   ],
   "source": [
    "# 54321\n",
    "# 5432\n",
    "# 543\n",
    "# 54\n",
    "# 5\n",
    "n=5\n",
    "for i in range(n):\n",
    "    for j in range (5,i,-1):\n",
    "        print(j,end=\"\")\n",
    "    print()"
   ]
  },
  {
   "cell_type": "code",
   "execution_count": 7,
   "id": "13bfb480-b7bc-4f4a-8ab2-e041e448b669",
   "metadata": {},
   "outputs": [
    {
     "name": "stdout",
     "output_type": "stream",
     "text": [
      "5\n",
      "54\n",
      "543\n",
      "5432\n",
      "54321\n"
     ]
    }
   ],
   "source": [
    "# 5\n",
    "# 54\n",
    "# 543\n",
    "# 5432\n",
    "# 54321\n",
    "n=5\n",
    "for i in range(n):\n",
    "    for j in range(5,4-i,-1):\n",
    "        print(j,end=\"\")\n",
    "    print()"
   ]
  },
  {
   "cell_type": "code",
   "execution_count": 5,
   "id": "8246a3f8-9070-418c-b420-7cd4abee4e45",
   "metadata": {},
   "outputs": [
    {
     "name": "stdout",
     "output_type": "stream",
     "text": [
      "54321\n",
      "4321\n",
      "321\n",
      "21\n",
      "1\n"
     ]
    }
   ],
   "source": [
    "# 54321\n",
    "# 4321\n",
    "# 321\n",
    "# 21\n",
    "# 1\n",
    "n=5\n",
    "for i in range(n):\n",
    "    for j in range (5-i,0,-1):\n",
    "        print(j,end=\"\")\n",
    "    print()\n"
   ]
  },
  {
   "cell_type": "code",
   "execution_count": 8,
   "id": "4b656eaa-3e52-4332-9be5-85e05faec643",
   "metadata": {},
   "outputs": [
    {
     "name": "stdout",
     "output_type": "stream",
     "text": [
      "1 \n",
      "2 3 \n",
      "4 5 6 \n",
      "7 8 9 10 \n",
      "11 12 13 14 15 \n"
     ]
    }
   ],
   "source": [
    "# 1\n",
    "# 2 3\n",
    "# 4 5 6\n",
    "# 7 8 9 10\n",
    "# 11 12 13 14 15\n",
    "n=5\n",
    "k=0\n",
    "for i in range(n):\n",
    "    for j in range(i+1):\n",
    "        k+=1\n",
    "        print(k,end=\" \")\n",
    "    print()"
   ]
  },
  {
   "cell_type": "code",
   "execution_count": 3,
   "id": "71d5e943-4aa1-44ea-9b2b-37da143f8666",
   "metadata": {},
   "outputs": [
    {
     "name": "stdout",
     "output_type": "stream",
     "text": [
      "    * \n",
      "   * * \n",
      "  * * * \n",
      " * * * * \n",
      "* * * * * \n"
     ]
    }
   ],
   "source": [
    "#     *\n",
    "#    * *\n",
    "#   * * *\n",
    "#  * * * *\n",
    "# * * * * * \n",
    "\n",
    "x=5\n",
    "for i in range (x):\n",
    "    for j in range (x-i-1):\n",
    "        print(\" \",end=\"\")\n",
    "    for k in range (i+1):\n",
    "        print(\"*\",end=\" \")\n",
    "    print()\n",
    "  "
   ]
  },
  {
   "cell_type": "code",
   "execution_count": 4,
   "id": "15e4697f-6c5a-4abe-a2f1-cd17d27b115b",
   "metadata": {},
   "outputs": [
    {
     "name": "stdout",
     "output_type": "stream",
     "text": [
      "* * * * * \n",
      " * * * * \n",
      "  * * * \n",
      "   * * \n",
      "    * \n"
     ]
    }
   ],
   "source": [
    "# * * * * * \n",
    "#  * * * * \n",
    "#   * * * \n",
    "#    * *\n",
    "#     * \n",
    "x=5\n",
    "for i in range(x):\n",
    "    for j in range(i):\n",
    "        print(\" \",end=\"\")\n",
    "    for k in range(x-i):\n",
    "        print(\"*\",end=\" \")\n",
    "    print()\n",
    "    "
   ]
  },
  {
   "cell_type": "code",
   "execution_count": 11,
   "id": "0b0e082f-b639-45ef-8ccd-c6c2558d1755",
   "metadata": {},
   "outputs": [
    {
     "name": "stdout",
     "output_type": "stream",
     "text": [
      "    * \n",
      "   * * \n",
      "  * * * \n",
      " * * * * \n",
      "* * * * * \n",
      " * * * * \n",
      "  * * * \n",
      "   * * \n",
      "    * \n",
      "     \n"
     ]
    }
   ],
   "source": [
    "#     *\n",
    "#    * *\n",
    "#   * * *\n",
    "#  * * * *\n",
    "# * * * * * \n",
    "#  * * * * \n",
    "#   * * * \n",
    "#    * *\n",
    "#     * \n",
    "\n",
    "x=5\n",
    "for i in range (x):\n",
    "    for j in range(x-i-1):\n",
    "        print(\" \",end=\"\")\n",
    "    for k in range (i+1):\n",
    "        print(\"*\",end=\" \")\n",
    "    print()\n",
    "for i in range(x):\n",
    "    for j in range(i+1):\n",
    "        print(\" \",end=\"\")\n",
    "    for k in range (x-i-1):\n",
    "        print(\"*\",end=\" \")\n",
    "    print()\n",
    "        \n",
    "    "
   ]
  },
  {
   "cell_type": "code",
   "execution_count": 1,
   "id": "9564e1ea-7378-4164-b174-4be07e2989a6",
   "metadata": {},
   "outputs": [
    {
     "name": "stdout",
     "output_type": "stream",
     "text": [
      "    1\n",
      "   212\n",
      "  32123\n",
      " 4321234\n",
      "543212345\n"
     ]
    }
   ],
   "source": [
    "#     1\n",
    "#    212\n",
    "#   32123\n",
    "#  4321234\n",
    "# 543212345\n",
    "\n",
    "x=5\n",
    "for i in range (x):\n",
    "    for j in range (x-i-1):\n",
    "        print(\" \",end=\"\")\n",
    "    for k in range (i+1,1,-1):\n",
    "        print(k,end=\"\")\n",
    "    for h in range (1,i+2):\n",
    "        print(h,end=\"\")\n",
    "    print()"
   ]
  },
  {
   "cell_type": "code",
   "execution_count": null,
   "id": "435aad12-2cb6-4bd7-be90-1645a4c867e8",
   "metadata": {},
   "outputs": [],
   "source": []
  }
 ],
 "metadata": {
  "kernelspec": {
   "display_name": "Python 3 (ipykernel)",
   "language": "python",
   "name": "python3"
  },
  "language_info": {
   "codemirror_mode": {
    "name": "ipython",
    "version": 3
   },
   "file_extension": ".py",
   "mimetype": "text/x-python",
   "name": "python",
   "nbconvert_exporter": "python",
   "pygments_lexer": "ipython3",
   "version": "3.11.7"
  }
 },
 "nbformat": 4,
 "nbformat_minor": 5
}
